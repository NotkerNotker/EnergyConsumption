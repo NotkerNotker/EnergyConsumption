{
 "cells": [
  {
   "cell_type": "code",
   "execution_count": 2,
   "metadata": {},
   "outputs": [],
   "source": [
    "from pandas import read_excel\n",
    "import pandas as pd"
   ]
  },
  {
   "cell_type": "code",
   "execution_count": 9,
   "metadata": {},
   "outputs": [],
   "source": [
    "# xl_file = pd.ExcelFile(\"energy_consumption_state.xlsx\")\n",
    "# dfs = {sheet_name: xl_file.parse(sheet_name) \n",
    "#           for sheet_name in xl_file.sheet_names}"
   ]
  },
  {
   "cell_type": "code",
   "execution_count": 34,
   "metadata": {
    "scrolled": true
   },
   "outputs": [],
   "source": [
    "# find your sheet name at the bottom left of your excel file and assign \n",
    "# it to my_sheet \n",
    "my_sheet = 'Residential Sector'\n",
    "file_name = 'energy_consumption_noheader.xlsx' # name of your excel file\n",
    "df = read_excel(file_name, sheet_name = my_sheet)\n",
    "# df = df.iloc[2:]\n",
    "df = df.set_index('State')\n",
    "df.to_csv(f'{my_sheet}.csv')"
   ]
  },
  {
   "cell_type": "code",
   "execution_count": 36,
   "metadata": {},
   "outputs": [],
   "source": [
    "my_sheet = 'Commercial Sector'\n",
    "file_name = 'energy_consumption_noheader.xlsx' # name of your excel file\n",
    "df = read_excel(file_name, sheet_name = my_sheet)\n",
    "# df = df.iloc[2:]\n",
    "df = df.set_index('State')\n",
    "df.to_csv(f'{my_sheet}.csv')"
   ]
  },
  {
   "cell_type": "code",
   "execution_count": 3,
   "metadata": {
    "scrolled": true
   },
   "outputs": [],
   "source": [
    "my_sheet = 'Industrial Sector'\n",
    "file_name = 'energy_consumption_noheader.xlsx' # name of your excel file\n",
    "df = read_excel(file_name, sheet_name = my_sheet)\n",
    "# df = df.iloc[2:]\n",
    "df = df.set_index('State')\n",
    "df.to_csv(f'{my_sheet}.csv')"
   ]
  },
  {
   "cell_type": "code",
   "execution_count": 37,
   "metadata": {},
   "outputs": [],
   "source": [
    "my_sheet = 'Transportation Sector'\n",
    "file_name = 'energy_consumption_noheader.xlsx' # name of your excel file\n",
    "df = read_excel(file_name, sheet_name = my_sheet)\n",
    "# df = df.iloc[2:]\n",
    "df = df.set_index('State')\n",
    "df.to_csv(f'{my_sheet}.csv')"
   ]
  },
  {
   "cell_type": "code",
   "execution_count": 38,
   "metadata": {},
   "outputs": [],
   "source": [
    "my_sheet = 'Total Consumption'\n",
    "file_name = 'energy_consumption_noheader.xlsx' # name of your excel file\n",
    "df = read_excel(file_name, sheet_name = my_sheet)\n",
    "# df = df.iloc[2:]\n",
    "df = df.set_index('State')\n",
    "df.to_csv(f'{my_sheet}.csv')"
   ]
  },
  {
   "cell_type": "code",
   "execution_count": null,
   "metadata": {},
   "outputs": [],
   "source": []
  }
 ],
 "metadata": {
  "kernelspec": {
   "display_name": "Python 3",
   "language": "python",
   "name": "python3"
  },
  "language_info": {
   "codemirror_mode": {
    "name": "ipython",
    "version": 3
   },
   "file_extension": ".py",
   "mimetype": "text/x-python",
   "name": "python",
   "nbconvert_exporter": "python",
   "pygments_lexer": "ipython3",
   "version": "3.7.6"
  }
 },
 "nbformat": 4,
 "nbformat_minor": 4
}
